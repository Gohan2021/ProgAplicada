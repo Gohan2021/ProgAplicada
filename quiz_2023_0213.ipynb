{
  "nbformat": 4,
  "nbformat_minor": 0,
  "metadata": {
    "colab": {
      "provenance": [],
      "authorship_tag": "ABX9TyNh5j2XIqyq+RdFJ4IKy0sn",
      "include_colab_link": true
    },
    "kernelspec": {
      "name": "python3",
      "display_name": "Python 3"
    },
    "language_info": {
      "name": "python"
    }
  },
  "cells": [
    {
      "cell_type": "markdown",
      "metadata": {
        "id": "view-in-github",
        "colab_type": "text"
      },
      "source": [
        "<a href=\"https://colab.research.google.com/github/Gohan2021/ProgAplicada/blob/main/coreccionQuiz13Febrero.ipynb\" target=\"_parent\"><img src=\"https://colab.research.google.com/assets/colab-badge.svg\" alt=\"Open In Colab\"/></a>"
      ]
    },
    {
      "cell_type": "code",
      "execution_count": 15,
      "metadata": {
        "colab": {
          "base_uri": "https://localhost:8080/"
        },
        "id": "D1sJWcOaT4d8",
        "outputId": "a7e0a16d-aba9-4fda-deb3-de137a376870"
      },
      "outputs": [
        {
          "output_type": "execute_result",
          "data": {
            "text/plain": [
              "[3, 2, 8, 3, 2, 8]"
            ]
          },
          "metadata": {},
          "execution_count": 15
        }
      ],
      "source": [
        "A=[1,3,2,8,4]\n",
        "\n",
        "n = len(A)\n",
        "A.pop(0)\n",
        "A.pop(n-2)\n",
        "B = A*2\n",
        "B"
      ]
    },
    {
      "cell_type": "code",
      "source": [],
      "metadata": {
        "id": "mcqIGphEZNUB"
      },
      "execution_count": null,
      "outputs": []
    }
  ]
}
